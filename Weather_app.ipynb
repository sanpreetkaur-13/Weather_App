{
 "cells": [
  {
   "cell_type": "code",
   "execution_count": 1,
   "metadata": {},
   "outputs": [],
   "source": [
    "import requests\n",
    "import os\n",
    "from datetime import datetime\n",
    "def checkWeather():\n",
    "    \n",
    "    try:\n",
    "        user_api = \"Your_api_key\" #I have not mentioned api key . Use your own key\n",
    "        location = input(\"Enter the city name: \")\n",
    "\n",
    "        complete_api_link = \"https://api.openweathermap.org/data/2.5/weather?q=\"+location+\"&appid=\"+user_api\n",
    "        api_link = requests.get(complete_api_link)\n",
    "        api_data = api_link.json()\n",
    "\n",
    "        #create variables to store and display data\n",
    "        temp_city = ((api_data['main']['temp']) - 273.15)\n",
    "        weather_desc = api_data['weather'][0]['description']\n",
    "        hmdt = api_data['main']['humidity']\n",
    "        wind_spd = api_data['wind']['speed']\n",
    "        date_time = datetime.now().strftime(\"%d %b %Y | %I:%M:%S %p\")\n",
    "\n",
    "        print (\"-------------------------------------------------------------\")\n",
    "        print (\"Weather Stats for - {}  || {}\".format(location.upper(), date_time))\n",
    "        print (\"-------------------------------------------------------------\")\n",
    "\n",
    "        print (\"Current temperature is: {:.2f} deg C\".format(temp_city))\n",
    "        print (\"Current weather desc  :\",weather_desc)\n",
    "        print (\"Current Humidity      :\",hmdt, '%')\n",
    "        print (\"Current wind speed    :\",wind_spd ,'kmph')\n",
    "        return False\n",
    "    except Exception as e:\n",
    "        print(\"Please enter a valid city name\")\n",
    "        return True\n",
    "        "
   ]
  },
  {
   "cell_type": "code",
   "execution_count": 2,
   "metadata": {},
   "outputs": [
    {
     "name": "stdout",
     "output_type": "stream",
     "text": [
      "Enter the city name: Delhi\n",
      "-------------------------------------------------------------\n",
      "Weather Stats for - DELHI  || 11 Jun 2021 | 09:54:28 PM\n",
      "-------------------------------------------------------------\n",
      "Current temperature is: 33.05 deg C\n",
      "Current weather desc  : haze\n",
      "Current Humidity      : 70 %\n",
      "Current wind speed    : 3.6 kmph\n"
     ]
    }
   ],
   "source": [
    "flag = True\n",
    "while flag:\n",
    "    flag=checkWeather()\n",
    "    "
   ]
  },
  {
   "cell_type": "code",
   "execution_count": null,
   "metadata": {},
   "outputs": [],
   "source": []
  }
 ],
 "metadata": {
  "kernelspec": {
   "display_name": "Python 3",
   "language": "python",
   "name": "python3"
  },
  "language_info": {
   "codemirror_mode": {
    "name": "ipython",
    "version": 3
   },
   "file_extension": ".py",
   "mimetype": "text/x-python",
   "name": "python",
   "nbconvert_exporter": "python",
   "pygments_lexer": "ipython3",
   "version": "3.7.6"
  }
 },
 "nbformat": 4,
 "nbformat_minor": 4
}
